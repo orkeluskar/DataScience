{
 "cells": [
  {
   "cell_type": "markdown",
   "metadata": {},
   "source": [
    "# Introduction to Data Science\n",
    "## Homework 1: Due Midnight, March 4th. 1/3 of a Grade Deducted for each day late"
   ]
  },
  {
   "cell_type": "markdown",
   "metadata": {},
   "source": [
    "Student Name: Omkar Keluskar\n",
    "\n",
    "Student Netid: ork216\n",
    "***"
   ]
  },
  {
   "cell_type": "markdown",
   "metadata": {},
   "source": [
    "### Part 1: Case study\n",
    "- Read [this article](http://www.nytimes.com/2012/02/19/magazine/shopping-habits.html) in the New York Times.\n",
    "- Use what we've learned in class and from the book to describe how one could set Target's problem up as a predictive modeling problem, such that they could have gotten the results that they did.  Formulate your solution as a proposed plan using our data science terminology.  Include all the aspects of the formulation that you see as relevant to solving the problem.  Be precise but concise."
   ]
  },
  {
   "cell_type": "markdown",
   "metadata": {},
   "source": [
    "#### Answer:\n",
    "\n",
    "##### Problem:\n",
    "Target was in need of increasing their revenue with the use of attracting pregnant womens to buy supplies. Pole, the new hire of the guest marketing division of the target, was asked by marketing team to find a way to know if they could find out if a guest is going through pregnancy. The problem, marketing team at Target had that they knew the shopping habbits change when a child comes into a family. So, they wanted to lure in  the Guest, or so called new customers, to buy baby products at Target. But, doing so, the family will not only buy baby products but all the household supplies gradually, thus increasing the revenue. <br>\n",
    "So, they wanted to target such womens who are in their second trimester. So, that they'd buy products from Target and gradually turn into loyal customer. So, the crucial problem was to find out if a guest is pregnant or not.\n",
    "How does one finds out? One can use statistical methods to find out if a women is pregnant or not. Thus predicting that the women is a pregnant one and is in her second trimester was the key to the solution.\n",
    "\n",
    "###### Solution:\n",
    "The target variable - pregnant women, can be found out using the training data. Where IsPregnant variable can be checked with other shopping habbits. What items are purchased by child bearing womens, what time they shop, what day is preferred. So, finding a model to fit this data perfectly, we'll require to make use of most of the techniques to find out the relation between the data and results. As it turned out Target knew that the Guest is a pregnant women or not, when she bought zinc and magnesium supplies in some quantities. So, to check if the model formed works. We can target some guests who fit into the model. And if we get positive results, that the women is indeed pregnant or not. We can then see that the given technique would be perfect for the given problem. And thus overfitting can be avoided.\n"
   ]
  },
  {
   "cell_type": "markdown",
   "metadata": {},
   "source": [
    "### Part 2: Dealing with messy data\n",
    "Not all data you will deal with is going to be clean. In fact, much of it will be very messy! For example, we have the HTML page that lists the contributors to Facebook's [osquery](https://github.com/facebook/osquery) project that is hosted on [Github.com](https://github.com). In this case, all we are interested in are the contributors and how many commits each of them has. Given the HTML page in `\"data/osquery_contributors.html\"` you will sift through tons of irrelevant data so that you can build a useful data structure.\n",
    "\n",
    "Notice that the first six (out of 59 total) contributors are named \"theopolis\", \"marpaia\", \"javuto\", \"jedi22\", \"unixist\", and \"mofarrell\". They have 553, 477, 104, 49, 30, 25 commits respectively.\n",
    "\n",
    "![Screenshot](images/osquery_contributors.png)\n",
    "\n",
    "To get a better of understanding of how this data is stored in the file, try searching through the raw data file for these usernames to look for any patterns. Your final dictionary should have 59 elements!"
   ]
  },
  {
   "cell_type": "markdown",
   "metadata": {},
   "source": [
    "1\\. Turn this data into a Python dictionary called `contributors` where the keys are the contributor names and the values are the number of commits that each contributor has."
   ]
  },
  {
   "cell_type": "code",
   "execution_count": 1,
   "metadata": {
    "collapsed": false
   },
   "outputs": [
    {
     "name": "stdout",
     "output_type": "stream",
     "text": [
      "{'theopolis': '1,097', 'marpaia': '492', 'javuto': '116', 'poppyseedplehzr': '76', 'jedi22': '57', 'zwass': '44', 'sharvilshah': '40', 'unixist': '30', 'yying': '29', 'mofarrell': '25', 'lwhsu': '22', 'wxsBSD': '20', 'polachok': '14', 'artemdinaburg': '14', 'kaizensoze': '13', 'friedbutter': '11', 'hackgnar': '11', 'rcseacord': '10', 'vjon': '10', 'maus-': '9', 'mtmcgrew': '9', 'lambda-conjecture': '9', 'vmauge': '8', 'astanway': '6', 'maclennann': '6', 'blakefrantz': '6', 'cdown': '6', 'adunham-stripe': '6', 'Centurion89': '6', 'akshaydixi': '5', 'justintime32': '5', 'ExtremeGTX': '5', 'mlw': '5', 'thedrow': '4', 'tonylambiris': '4', 'fuzzball5000': '4', 'arirubinstein': '4', 'mimeframe': '3', 'deniszh': '3', 'mathieuk': '3', 'russellhancox': '3', 'achmiel': '3', 'nlsun': '3', 'sroberts': '3', 'allanliu': '3', 'brandt': '3', 'timzimmermann': '2', 'jreese': '2', 'schettino72': '2', 'Anubisss': '2', 'mgoffin': '2', 'ga2arch': '2', 'jamesgpearce': '2', 'castrapel': '2', 'keeleysam': '2', 'svmastersamurai': '2', 'marc-lebourdais': '2', 'rogeliodh': '2', 'slester': '2', 'Zaksh': '2', 'nerddotcat': '2', 'mwielgoszewski': '2', 'DaanDeMeyer': '2', 'PickmanSec': '2', 'umareddy': '2', 'lexelby': '2', 'nemith': '2', 'arubdesu': '2', 'glensc': '2', 'kost': '1', 'readshaw': '1', 'quad': '1', 'yannick': '1', 'ecin': '1', 'yetanotherhacker': '1', 'rjeczalik': '1', 'larzconwell': '1', 'vlajos': '1', 'dreid': '1', 'stevenhilder': '1', 'shawndavenport': '1', 'mark-ignacio': '1', 'd0ugal': '1', 'tburgin': '1', 'apage43': '1', 'alex': '1', 'DavidGosselin': '1', 'blackfist': '1', '0xdabbad00': '1', 'zenfish': '1', 'amacneil': '1', 'jajce': '1', 'pathcl': '1', 'jacknagz': '1', 'secretsquirrel': '1', 'bhamodi': '1', 'mdevens': '1', 'mmichie': '1', 'waywardmonkeys': '1', 'ilovezfs': '1'}\n"
     ]
    }
   ],
   "source": [
    "import re # you might find this package useful\n",
    "from bs4 import BeautifulSoup\n",
    "\n",
    "contributors = dict()\n",
    "\n",
    "# Place your code here\n",
    "\n",
    "# Made use of the html page right from the github page\n",
    "# as the provided page wasn't loading as intended\n",
    "# So, this page is showing 100 results as reflecting on the github contributors\n",
    "# I'll add the html page with my ipython notebook just to be clear\n",
    "\n",
    "soup = BeautifulSoup(open(\"/home/omkar/Downloads/Contributors to facebook_osquery.html\"), \"lxml\")\n",
    "contribution = soup.find_all('a', class_=\"cmt\")\n",
    "author = soup.find_all('a', class_=\"aname\")\n",
    "\n",
    "for i in range(len(author)):\n",
    "    contributors[author[i].text] = contribution[i].text.strip(\" commits\")\n",
    "\n",
    "            \n",
    "# This line will print your dictionary for grading purposes. Do not remove this line!!!\n",
    "print(contributors)"
   ]
  },
  {
   "cell_type": "markdown",
   "metadata": {},
   "source": [
    "### Part 3: Dealing with data Pythonically"
   ]
  },
  {
   "cell_type": "code",
   "execution_count": 1,
   "metadata": {
    "collapsed": true
   },
   "outputs": [],
   "source": [
    "# You might find these packages useful. You may import any others you want!\n",
    "import pandas as pd\n",
    "import numpy as np"
   ]
  },
  {
   "cell_type": "markdown",
   "metadata": {},
   "source": [
    "1\\. Load the data set `\"data/ads_dataset.tsv\"` into a Python Pandas data frame called `ads`."
   ]
  },
  {
   "cell_type": "code",
   "execution_count": 2,
   "metadata": {
    "collapsed": false
   },
   "outputs": [],
   "source": [
    "# Place your code here\n",
    "ads = pd.read_csv('/home/omkar/DataScienceCourse/ipython/hw/hw_1/data/ads_dataset.tsv', sep=\"\\t\")\n"
   ]
  },
  {
   "cell_type": "markdown",
   "metadata": {},
   "source": [
    "2\\. Write a Python function called `getDfSummary()` that does the following:\n",
    "- Takes as input a data frame\n",
    "- For each variable in the data frame calculates the following features:\n",
    "  - `number_nan` to count the number of missing not-a-number values\n",
    "  - Ignoring missing, NA, and Null values:\n",
    "    - `number_distinct` to count the number of distinct values a variable can take on\n",
    "    - `mean`, `max`, `min`, `std` (standard deviation), and `25%`, `50%`, `75%` to correspond to the appropriate percentiles\n",
    "- All of these new features should be loaded in a new data frame. Each row of the data frame should be a variable from the input data frame, and the columns should be the new summary features.\n",
    "- Returns this new data frame containing all of the summary information\n",
    "\n",
    "Hint: The pandas `describe()` [(manual page)](http://pandas.pydata.org/pandas-docs/stable/generated/pandas.DataFrame.describe.html) method returns a useful series of values that can be used here."
   ]
  },
  {
   "cell_type": "code",
   "execution_count": 3,
   "metadata": {
    "collapsed": false
   },
   "outputs": [],
   "source": [
    "def getDfSummary(ads):\n",
    "    # Place your code here \n",
    "    \n",
    "    # Storing count of NaN values in nos_nan\n",
    "    temp = pd.DataFrame(ads.isnull().sum()).transpose()\n",
    "    nos_nan = temp.rename({0: \"number_nan\"})\n",
    "\n",
    "    # Storing distinct values in distinct\n",
    "    t = {}\n",
    "    for i in ads.columns.values:\n",
    "        t[i] = len((ads[i].dropna()).unique()) # Dropped the NA columns\n",
    "\n",
    "    \n",
    "    distinct = pd.DataFrame.from_dict(t, orient='index').transpose()\n",
    "    distinct = distinct.rename({0: \"number_distinct\"})\n",
    "\n",
    "    \n",
    "    # Rest of the statistics\n",
    "    temp1 = ads.dropna().describe()\n",
    "\n",
    "    # Appending the results\n",
    "    # output_data = distinct.append(nos_nan)\n",
    "    # output_data = output_data.append(temp1)\n",
    "    \n",
    "    output_data = pd.concat([nos_nan, distinct, temp1])\n",
    "    output_data = output_data.drop('count', 0)\n",
    "\n",
    "    return output_data"
   ]
  },
  {
   "cell_type": "markdown",
   "metadata": {},
   "source": [
    "3\\. How long does it take for your `getDfSummary()` function to work on your `ads` data frame? Show us the results below.\n",
    "\n",
    "Hint: `%timeit getDfSummary(ads)`"
   ]
  },
  {
   "cell_type": "code",
   "execution_count": 4,
   "metadata": {
    "collapsed": false
   },
   "outputs": [
    {
     "name": "stdout",
     "output_type": "stream",
     "text": [
      "10 loops, best of 3: 55.2 ms per loop\n"
     ]
    }
   ],
   "source": [
    "# Place your code here\n",
    "%timeit getDfSummary(ads)"
   ]
  },
  {
   "cell_type": "markdown",
   "metadata": {},
   "source": [
    "4\\. Using the results returned from `getDfSummary()`, which fields, if any, contain missing `NaN` values?"
   ]
  },
  {
   "cell_type": "code",
   "execution_count": 5,
   "metadata": {
    "collapsed": false
   },
   "outputs": [
    {
     "data": {
      "text/plain": [
       "isbuyer                False\n",
       "buy_freq               False\n",
       "visit_freq             False\n",
       "buy_interval           False\n",
       "sv_interval            False\n",
       "expected_time_buy      False\n",
       "expected_time_visit    False\n",
       "last_buy               False\n",
       "last_visit             False\n",
       "multiple_buy           False\n",
       "multiple_visit         False\n",
       "uniq_urls              False\n",
       "num_checkins           False\n",
       "y_buy                  False\n",
       "dtype: bool"
      ]
     },
     "execution_count": 5,
     "metadata": {},
     "output_type": "execute_result"
    }
   ],
   "source": [
    "# Place your code here \n",
    "getDfSummary(ads).isnull().any()"
   ]
  },
  {
   "cell_type": "markdown",
   "metadata": {},
   "source": [
    "5\\. For the fields with missing values, does it look like the data is missing at random? Are there any other fields that correlate perfectly, or predict that the data is missing? If missing, what should the data value be?\n",
    "\n",
    "Hint: create another data frame that has just the records with a missing value. Get a summary of this data frame using `getDfSummary()` and compare the differences. Do some feature distributions change dramatically?"
   ]
  },
  {
   "cell_type": "code",
   "execution_count": null,
   "metadata": {
    "collapsed": false,
    "scrolled": false
   },
   "outputs": [],
   "source": [
    "# Place your code here\n",
    "# Creating a copy of the ads dataframe\n",
    "temp = ads\n",
    "\n",
    "# Filtering out the missing values and making a copy of the datafrane where only NaN values in ads are stored\n",
    "temp = temp[temp.buy_freq != 1]\n",
    "getDfSummary(temp)\n"
   ]
  },
  {
   "cell_type": "markdown",
   "metadata": {},
   "source": [
    "#### Answer:\n",
    "<p>In the <b>buy_freq</b> field the data isn't missing at random.\n",
    "The <b>buy_freq</b> correlates perfectly with the <b>isbuyer</b> where if <b> isbuyer equals 1</b> the <b>buy_freq</b> reflects a non-null value.\n",
    "The missing data can be replaced with 0. As he/she isn't a buyer so the frequency he/she buys would be 0.\n",
    "\n",
    "</p>"
   ]
  },
  {
   "cell_type": "markdown",
   "metadata": {},
   "source": [
    "6\\. Which variables are binary?"
   ]
  },
  {
   "cell_type": "code",
   "execution_count": 55,
   "metadata": {
    "collapsed": false
   },
   "outputs": [
    {
     "name": "stdout",
     "output_type": "stream",
     "text": [
      "isbuyer\n",
      "multiple_buy\n",
      "multiple_visit\n",
      "y_buy\n"
     ]
    }
   ],
   "source": [
    "# Storing counts of binary values\n",
    "total = ads.isin([0,1]).sum()\n",
    "for i in ads:\n",
    "    if len(ads[i]) == total[i]:\n",
    "        print(i)"
   ]
  }
 ],
 "metadata": {
  "kernelspec": {
   "display_name": "Python 3",
   "language": "python",
   "name": "python3"
  },
  "language_info": {
   "codemirror_mode": {
    "name": "ipython",
    "version": 3
   },
   "file_extension": ".py",
   "mimetype": "text/x-python",
   "name": "python",
   "nbconvert_exporter": "python",
   "pygments_lexer": "ipython3",
   "version": "3.6.0"
  }
 },
 "nbformat": 4,
 "nbformat_minor": 0
}
